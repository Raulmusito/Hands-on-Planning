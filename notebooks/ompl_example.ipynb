{
 "cells": [
  {
   "cell_type": "markdown",
   "metadata": {},
   "source": [
    "# OMPL code example\n",
    "\n",
    "Given and empty 2D space from (-10, -10) to (10, 10) with 2 obstacles:\n",
    "* $O_1$ goes from (-10, -7.5) to (5, -2.5)\n",
    "* $O_2$ goes from (-5, 2.5) to (10, 7.5)\n",
    "\n",
    "Plan a path from (-8, -8) to (8, 8)"
   ]
  },
  {
   "cell_type": "code",
   "execution_count": 1,
   "metadata": {},
   "outputs": [],
   "source": [
    "# Define a list of rectangular obstacles defined as tuples containing: (x_min, y_min, x_max, y_max)\n",
    "obstacles = [(-10, -7.5, 5, -2.5), (-5, 2.5, 10, 7.5)]\n",
    "\n",
    "# Return True if free space and false if occupied (i.e., state is inside an obstacle)\n",
    "def isStateValid(state):\n",
    "    # Use the check_collision object to check if a state is valid or not\n",
    "    for o in obstacles:\n",
    "        if (state[0] >= o[0] and state[0]<= o[2]) and (state[1] >= o[1] and state[1]<= o[3]):\n",
    "            # state inside an obstacle\n",
    "            return False\n",
    "    return True"
   ]
  },
  {
   "cell_type": "code",
   "execution_count": 3,
   "metadata": {},
   "outputs": [],
   "source": [
    "from ompl import base as ob\n",
    "from ompl import geometric as og\n",
    "\n",
    "def plan(bound_low, bound_high, start_position, goal_position, time):\n",
    "    # create an SE2 state space\n",
    "    space = ob.RealVectorStateSpace(2)\n",
    "\n",
    "    # Set the bounds of space to be in low to high.\n",
    "    space.setBounds(bound_low, bound_high)\n",
    "    \n",
    "    # construct an instance of space information from this state space\n",
    "    si = ob.SpaceInformation(space)\n",
    "    \n",
    "    # set state validity checking for this space\n",
    "    si.setStateValidityChecker(ob.StateValidityCheckerFn(isStateValid))\n",
    "\n",
    "    # create a random start state\n",
    "    start = ob.State(space)\n",
    "    start[0] = start_position[0]\n",
    "    start[1] = start_position[1]\n",
    "    \n",
    "    # create a random goal state\n",
    "    goal = ob.State(space)\n",
    "    goal[0] = goal_position[0]\n",
    "    goal[1] = goal_position[1]\n",
    "\n",
    "    # create a problem instance\n",
    "    pdef = ob.ProblemDefinition(si)\n",
    "    \n",
    "    # set the start and goal states\n",
    "    pdef.setStartAndGoalStates(start, goal)\n",
    "    \n",
    "    # Create the optimization objective. Here it is to optimize the path lenght\n",
    "    pdef.setOptimizationObjective(ob.PathLengthOptimizationObjective(si))\n",
    "\n",
    "    # Construct the optimal planner. An RRT* planner is used.\n",
    "    optimizingPlanner = og.RRTstar(si)\n",
    "    # optimizingPlanner = og.RRTConnect(si)\n",
    "    # optimizingPlanner = og.RRT(si)\n",
    "\n",
    "    # Set the problem instance for our planner to solve and call setup\n",
    "    optimizingPlanner.setProblemDefinition(pdef)\n",
    "    optimizingPlanner.setup()\n",
    "\n",
    "    # attempt to solve the planning problem in the given runtime\n",
    "    solved = optimizingPlanner.solve(time)\n",
    "    \n",
    "    # Get planner data\n",
    "    pd = ob.PlannerData(si)\n",
    "    optimizingPlanner.getPlannerData(pd)\n",
    "    \n",
    "    if solved:\n",
    "        # get the path and transform it to a list\n",
    "        path = pdef.getSolutionPath()\n",
    "        # print(\"Found solution:\\n%s\" % path)\n",
    "        ret = []\n",
    "        for i in path.getStates():\n",
    "            ret.append((i[0], i[1]))\n",
    "    else:\n",
    "        print(\"No solution found\")\n",
    "    return ret, pd"
   ]
  },
  {
   "cell_type": "code",
   "execution_count": 13,
   "metadata": {},
   "outputs": [
    {
     "data": {
      "text/plain": [
       "(-10, 10)"
      ]
     },
     "execution_count": 13,
     "metadata": {},
     "output_type": "execute_result"
    },
    {
     "data": {
      "image/png": "[encoded data removed]",
      "text/plain": [
       "<Figure size 432x288 with 1 Axes>"
      ]
     },
     "metadata": {
      "needs_background": "light"
     },
     "output_type": "display_data"
    }
   ],
   "source": [
    "from matplotlib import pyplot as plt \n",
    "start = (-8, -8)\n",
    "goal = (8, 8)\n",
    "path, pd = plan(-10, 10, start, goal, 1)\n",
    "\n",
    "# Plot obstacles\n",
    "for o in obstacles:\n",
    "    plt.plot([o[0], o[2], o[2], o[0], o[0]], [o[1], o[1], o[3], o[3], o[1]], '-r')\n",
    "\n",
    "# Plot path\n",
    "for p in range(len(path) - 1):\n",
    "    plt.plot([path[p][0], path[p+1][0]], [path[p][1], path[p+1][1]], '-b')\n",
    "\n",
    "# Plot start and goal\n",
    "plt.plot(start[0], start[1], '+g')\n",
    "plt.plot(goal[0], goal[1], '+g')\n",
    "\n",
    "# Set axis\n",
    "plt.xlim(-10, 10)\n",
    "plt.ylim(-10, 10)\n"
   ]
  }
 ],
 "metadata": {
  "interpreter": {
   "hash": "767d51c1340bd893661ea55ea3124f6de3c7a262a8b4abca0554b478b1e2ff90"
  },
  "kernelspec": {
   "display_name": "Python 3.8.10 64-bit",
   "name": "python3"
  },
  "language_info": {
   "codemirror_mode": {
    "name": "ipython",
    "version": 3
   },
   "file_extension": ".py",
   "mimetype": "text/x-python",
   "name": "python",
   "nbconvert_exporter": "python",
   "pygments_lexer": "ipython3",
   "version": "3.8.10"
  },
  "orig_nbformat": 4
 },
 "nbformat": 4,
 "nbformat_minor": 2
}
